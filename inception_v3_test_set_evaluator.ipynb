{
  "nbformat": 4,
  "nbformat_minor": 0,
  "metadata": {
    "colab": {
      "name": "inception_v3_test_set_evaluator.ipynb",
      "provenance": [],
      "authorship_tag": "ABX9TyOq5H3YwWH8q/j6h/Fw57Jc"
    },
    "kernelspec": {
      "name": "python3",
      "display_name": "Python 3"
    },
    "accelerator": "GPU",
    "widgets": {
      "application/vnd.jupyter.widget-state+json": {
        "ccc1c07552bb4b458a53ec63dc28e2da": {
          "model_module": "@jupyter-widgets/controls",
          "model_name": "HBoxModel",
          "state": {
            "_view_name": "HBoxView",
            "_dom_classes": [],
            "_model_name": "HBoxModel",
            "_view_module": "@jupyter-widgets/controls",
            "_model_module_version": "1.5.0",
            "_view_count": null,
            "_view_module_version": "1.5.0",
            "box_style": "",
            "layout": "IPY_MODEL_7c0259d5150949389848a3d7386a84c0",
            "_model_module": "@jupyter-widgets/controls",
            "children": [
              "IPY_MODEL_428ea4aeb13d4d61b1c01cadd3c222aa",
              "IPY_MODEL_f9a88b11d7ec47b9a946d34001f48efe"
            ]
          }
        },
        "7c0259d5150949389848a3d7386a84c0": {
          "model_module": "@jupyter-widgets/base",
          "model_name": "LayoutModel",
          "state": {
            "_view_name": "LayoutView",
            "grid_template_rows": null,
            "right": null,
            "justify_content": null,
            "_view_module": "@jupyter-widgets/base",
            "overflow": null,
            "_model_module_version": "1.2.0",
            "_view_count": null,
            "flex_flow": null,
            "width": null,
            "min_width": null,
            "border": null,
            "align_items": null,
            "bottom": null,
            "_model_module": "@jupyter-widgets/base",
            "top": null,
            "grid_column": null,
            "overflow_y": null,
            "overflow_x": null,
            "grid_auto_flow": null,
            "grid_area": null,
            "grid_template_columns": null,
            "flex": null,
            "_model_name": "LayoutModel",
            "justify_items": null,
            "grid_row": null,
            "max_height": null,
            "align_content": null,
            "visibility": null,
            "align_self": null,
            "height": null,
            "min_height": null,
            "padding": null,
            "grid_auto_rows": null,
            "grid_gap": null,
            "max_width": null,
            "order": null,
            "_view_module_version": "1.2.0",
            "grid_template_areas": null,
            "object_position": null,
            "object_fit": null,
            "grid_auto_columns": null,
            "margin": null,
            "display": null,
            "left": null
          }
        },
        "428ea4aeb13d4d61b1c01cadd3c222aa": {
          "model_module": "@jupyter-widgets/controls",
          "model_name": "FloatProgressModel",
          "state": {
            "_view_name": "ProgressView",
            "style": "IPY_MODEL_08f17315884144b496f09f1186896f9b",
            "_dom_classes": [],
            "description": "100%",
            "_model_name": "FloatProgressModel",
            "bar_style": "success",
            "max": 108857766,
            "_view_module": "@jupyter-widgets/controls",
            "_model_module_version": "1.5.0",
            "value": 108857766,
            "_view_count": null,
            "_view_module_version": "1.5.0",
            "orientation": "horizontal",
            "min": 0,
            "description_tooltip": null,
            "_model_module": "@jupyter-widgets/controls",
            "layout": "IPY_MODEL_759ead6393f4477e94edd30056fa6df9"
          }
        },
        "f9a88b11d7ec47b9a946d34001f48efe": {
          "model_module": "@jupyter-widgets/controls",
          "model_name": "HTMLModel",
          "state": {
            "_view_name": "HTMLView",
            "style": "IPY_MODEL_84a54bccea5743abb61fa728725cabc3",
            "_dom_classes": [],
            "description": "",
            "_model_name": "HTMLModel",
            "placeholder": "​",
            "_view_module": "@jupyter-widgets/controls",
            "_model_module_version": "1.5.0",
            "value": " 104M/104M [00:16&lt;00:00, 6.43MB/s]",
            "_view_count": null,
            "_view_module_version": "1.5.0",
            "description_tooltip": null,
            "_model_module": "@jupyter-widgets/controls",
            "layout": "IPY_MODEL_a99fbea5f51f4c89b6c3dc5cc92d9f6d"
          }
        },
        "08f17315884144b496f09f1186896f9b": {
          "model_module": "@jupyter-widgets/controls",
          "model_name": "ProgressStyleModel",
          "state": {
            "_view_name": "StyleView",
            "_model_name": "ProgressStyleModel",
            "description_width": "initial",
            "_view_module": "@jupyter-widgets/base",
            "_model_module_version": "1.5.0",
            "_view_count": null,
            "_view_module_version": "1.2.0",
            "bar_color": null,
            "_model_module": "@jupyter-widgets/controls"
          }
        },
        "759ead6393f4477e94edd30056fa6df9": {
          "model_module": "@jupyter-widgets/base",
          "model_name": "LayoutModel",
          "state": {
            "_view_name": "LayoutView",
            "grid_template_rows": null,
            "right": null,
            "justify_content": null,
            "_view_module": "@jupyter-widgets/base",
            "overflow": null,
            "_model_module_version": "1.2.0",
            "_view_count": null,
            "flex_flow": null,
            "width": null,
            "min_width": null,
            "border": null,
            "align_items": null,
            "bottom": null,
            "_model_module": "@jupyter-widgets/base",
            "top": null,
            "grid_column": null,
            "overflow_y": null,
            "overflow_x": null,
            "grid_auto_flow": null,
            "grid_area": null,
            "grid_template_columns": null,
            "flex": null,
            "_model_name": "LayoutModel",
            "justify_items": null,
            "grid_row": null,
            "max_height": null,
            "align_content": null,
            "visibility": null,
            "align_self": null,
            "height": null,
            "min_height": null,
            "padding": null,
            "grid_auto_rows": null,
            "grid_gap": null,
            "max_width": null,
            "order": null,
            "_view_module_version": "1.2.0",
            "grid_template_areas": null,
            "object_position": null,
            "object_fit": null,
            "grid_auto_columns": null,
            "margin": null,
            "display": null,
            "left": null
          }
        },
        "84a54bccea5743abb61fa728725cabc3": {
          "model_module": "@jupyter-widgets/controls",
          "model_name": "DescriptionStyleModel",
          "state": {
            "_view_name": "StyleView",
            "_model_name": "DescriptionStyleModel",
            "description_width": "",
            "_view_module": "@jupyter-widgets/base",
            "_model_module_version": "1.5.0",
            "_view_count": null,
            "_view_module_version": "1.2.0",
            "_model_module": "@jupyter-widgets/controls"
          }
        },
        "a99fbea5f51f4c89b6c3dc5cc92d9f6d": {
          "model_module": "@jupyter-widgets/base",
          "model_name": "LayoutModel",
          "state": {
            "_view_name": "LayoutView",
            "grid_template_rows": null,
            "right": null,
            "justify_content": null,
            "_view_module": "@jupyter-widgets/base",
            "overflow": null,
            "_model_module_version": "1.2.0",
            "_view_count": null,
            "flex_flow": null,
            "width": null,
            "min_width": null,
            "border": null,
            "align_items": null,
            "bottom": null,
            "_model_module": "@jupyter-widgets/base",
            "top": null,
            "grid_column": null,
            "overflow_y": null,
            "overflow_x": null,
            "grid_auto_flow": null,
            "grid_area": null,
            "grid_template_columns": null,
            "flex": null,
            "_model_name": "LayoutModel",
            "justify_items": null,
            "grid_row": null,
            "max_height": null,
            "align_content": null,
            "visibility": null,
            "align_self": null,
            "height": null,
            "min_height": null,
            "padding": null,
            "grid_auto_rows": null,
            "grid_gap": null,
            "max_width": null,
            "order": null,
            "_view_module_version": "1.2.0",
            "grid_template_areas": null,
            "object_position": null,
            "object_fit": null,
            "grid_auto_columns": null,
            "margin": null,
            "display": null,
            "left": null
          }
        }
      }
    }
  },
  "cells": [
    {
      "cell_type": "code",
      "metadata": {
        "id": "XeKHGIogLKkN",
        "colab": {
          "base_uri": "https://localhost:8080/"
        },
        "outputId": "ae1d3224-7258-469b-dea2-615f989ebdeb"
      },
      "source": [
        "from google.colab import drive\r\n",
        "drive.mount('/content/drive')"
      ],
      "execution_count": null,
      "outputs": [
        {
          "output_type": "stream",
          "text": [
            "Mounted at /content/drive\n"
          ],
          "name": "stdout"
        }
      ]
    },
    {
      "cell_type": "code",
      "metadata": {
        "id": "NlvKufJ-LZtJ"
      },
      "source": [
        "import sys\r\n",
        "sys.path.append('/content/drive/MyDrive')"
      ],
      "execution_count": null,
      "outputs": []
    },
    {
      "cell_type": "code",
      "metadata": {
        "id": "zaJSdlD8LoxO"
      },
      "source": [
        "import torch\r\n",
        "import torch.nn as nn\r\n",
        "import numpy as np\r\n",
        "import torchvision\r\n",
        "from torchvision import datasets, models, transforms\r\n",
        "from torch.utils.data import Dataset, DataLoader\r\n",
        "import os\r\n",
        "import pandas as pd\r\n",
        "import seaborn as sn\r\n",
        "import matplotlib.pyplot as plt\r\n",
        "from PIL import Image\r\n",
        "from sklearn.metrics import roc_auc_score, roc_curve, auc, confusion_matrix, recall_score, precision_score, f1_score"
      ],
      "execution_count": null,
      "outputs": []
    },
    {
      "cell_type": "code",
      "metadata": {
        "colab": {
          "base_uri": "https://localhost:8080/"
        },
        "id": "ySZR0gAqSUsA",
        "outputId": "f4e83f8e-3bab-4e3a-af4c-8e19bc416ad0"
      },
      "source": [
        "data_dir = '/content/drive/MyDrive/Object-CXR/DATA_DIR'\r\n",
        "test_dir = os.path.join(data_dir, 'test')\r\n",
        "print(test_dir)"
      ],
      "execution_count": null,
      "outputs": [
        {
          "output_type": "stream",
          "text": [
            "/content/drive/MyDrive/Object-CXR/DATA_DIR/test\n"
          ],
          "name": "stdout"
        }
      ]
    },
    {
      "cell_type": "code",
      "metadata": {
        "id": "JAYUfcKFRXJ2"
      },
      "source": [
        "labels_test = pd.read_csv(data_dir + '/test.csv', na_filter=False)"
      ],
      "execution_count": null,
      "outputs": []
    },
    {
      "cell_type": "code",
      "metadata": {
        "id": "bWjItK6savkX"
      },
      "source": [
        "# original download test.csv file had /test/ infront of all image names this box\r\n",
        "# is used to change this to just the image name\r\n",
        "\r\n",
        "image_list = []\r\n",
        "\r\n",
        "for i in range(1000):\r\n",
        "  image_string = labels_test.image_path[i][5:]\r\n",
        "  image_list.append(image_string)\r\n",
        "\r\n",
        "\r\n",
        "test_reformatted = pd.DataFrame({'image_name': image_list, 'annotation': labels_test.annotation})\r\n",
        "\r\n",
        "test_reformatted.to_csv(data_dir + '/test_reformatted.csv',columns=['image_name', 'annotation'], sep=',', index=None)\r\n",
        "\r\n",
        "# ─── DATA_DIR\r\n",
        "#     ├── train\r\n",
        "#     │   ├── #####.jpg\r\n",
        "#     │   └── ...\r\n",
        "#     ├── dev\r\n",
        "#     │   ├── #####.jpg\r\n",
        "#     │   └── ...\r\n",
        "#     ├── test\r\n",
        "#     │   ├── #####.jpg\r\n",
        "#     │   ├── ...\r\n",
        "#     ├── train.csv\r\n",
        "#     ├── dev.csv          \r\n",
        "#     ├── test.csv\r\n",
        "#     └── test_reformatted.csv"
      ],
      "execution_count": null,
      "outputs": []
    },
    {
      "cell_type": "markdown",
      "metadata": {
        "id": "cQbKU081GYrr"
      },
      "source": [
        "# Build Dataset"
      ]
    },
    {
      "cell_type": "code",
      "metadata": {
        "id": "nZRjbO5yMq08"
      },
      "source": [
        "class ObjectDataset(Dataset):\r\n",
        "    \"\"\"\r\n",
        "    Creates a Dataset object of the images and their corresponding labels.\r\n",
        "    \"\"\"\r\n",
        "\r\n",
        "    def __init__(self, csv_file, root_dir, transform=None):\r\n",
        "        \"\"\"\r\n",
        "        :param csv_file (string): Path to the csv file with annotations\r\n",
        "        :param root_dir (string): Directory with all the images\r\n",
        "        :param transform (callable, optional): Optional transform to be applied on a sample\r\n",
        "        \"\"\"\r\n",
        "        self.frame = pd.read_csv(csv_file, na_filter=False)\r\n",
        "        self.root_dir = root_dir\r\n",
        "        self.transform = transform\r\n",
        "        # Renaming the 'annotation' column and calling it 'label'\r\n",
        "        self.frame = self.frame.rename(columns={\"annotation\": \"label\"})\r\n",
        "        # Now we change the content of the label column\r\n",
        "        # If content is empty i.e. \"\", then label it 0\r\n",
        "        # Otherwise, label it 1\r\n",
        "        num_index = range(len(self.frame))\r\n",
        "        for idx in num_index:\r\n",
        "            label = self.frame.loc[idx, 'label']\r\n",
        "            if label == \"\":\r\n",
        "                self.frame.loc[idx, 'label'] = 0\r\n",
        "            else:\r\n",
        "                self.frame.loc[idx, 'label'] = 1\r\n",
        "\r\n",
        "    def __len__(self):\r\n",
        "        return len(self.frame)\r\n",
        "\r\n",
        "    def __getitem__(self, idx):\r\n",
        "        if torch.is_tensor(idx):\r\n",
        "            idx = idx.tolist()\r\n",
        "\r\n",
        "        img_name = os.path.join(self.root_dir,\r\n",
        "                                self.frame.iloc[idx, 0])\r\n",
        "        image = Image.open(img_name).convert(\"RGB\")  # convert image to RGB\r\n",
        "\r\n",
        "        replaced_label = self.frame.loc[idx, \"label\"]\r\n",
        "\r\n",
        "        # Applying transforms\r\n",
        "        if self.transform:\r\n",
        "            for tsfrm in self.transform:\r\n",
        "                image = tsfrm(image)\r\n",
        "\r\n",
        "        sample = {\"image\": image, \"label\": replaced_label}\r\n",
        "        return sample"
      ],
      "execution_count": null,
      "outputs": []
    },
    {
      "cell_type": "code",
      "metadata": {
        "id": "8vqDayOiMukA",
        "colab": {
          "base_uri": "https://localhost:8080/"
        },
        "outputId": "c848f6c5-80a7-4ae5-82ff-64b6135a89e3"
      },
      "source": [
        "img_transforms_test = [transforms.Compose([transforms.Resize((800, 800))]),\r\n",
        "                       transforms.Compose([transforms.ToTensor()]),\r\n",
        "                       transforms.Compose([transforms.Normalize([0.485, 0.456, 0.406],\r\n",
        "                                                                [0.229, 0.224, 0.225])])\r\n",
        "                       ]\r\n",
        "\r\n",
        "print(\"Initialising Datasets and Dataloaders...\")\r\n",
        "test_dataset = ObjectDataset(csv_file=data_dir + '/test_reformatted.csv',\r\n",
        "                             root_dir=test_dir,\r\n",
        "                             transform=img_transforms_test)\r\n",
        "test_dataLoader = DataLoader(test_dataset, batch_size=1, shuffle=False,\r\n",
        "                             num_workers=4)\r\n",
        "\r\n",
        "use_cuda = torch.cuda.is_available()\r\n",
        "device = torch.device(\"cuda:0\" if use_cuda else \"cpu\")"
      ],
      "execution_count": null,
      "outputs": [
        {
          "output_type": "stream",
          "text": [
            "Initialising Datasets and Dataloaders...\n"
          ],
          "name": "stdout"
        }
      ]
    },
    {
      "cell_type": "markdown",
      "metadata": {
        "id": "StxWfpFXGb1O"
      },
      "source": [
        "# Loading Best Model"
      ]
    },
    {
      "cell_type": "code",
      "metadata": {
        "id": "x3lp17yWOwSJ"
      },
      "source": [
        "def initialise_inception_v3(num_classes, input_size, use_pretrained=True):\r\n",
        "    \"\"\"\r\n",
        "    This function initialises an Inception v3 model.\r\n",
        "\r\n",
        "    :param num_classes: The number of classes your Inception v3 model outputs.\r\n",
        "    :param input_size: The size of your image as a single value. For example,\r\n",
        "                       if image size is (800, 800), input_size=800.\r\n",
        "    :param use_pretrained: If True, returns a model pre-trained on ImageNet.\r\n",
        "\r\n",
        "    :return: the inception v3 model, its input size\r\n",
        "    \"\"\"\r\n",
        "\r\n",
        "    model_ft = models.inception_v3(pretrained=use_pretrained)\r\n",
        "    # Handle the auxiliary net\r\n",
        "    num_ftrs = model_ft.AuxLogits.fc.in_features\r\n",
        "    model_ft.AuxLogits.fc = nn.Linear(num_ftrs, num_classes)\r\n",
        "    # Handle the primary net\r\n",
        "    num_ftrs = model_ft.fc.in_features\r\n",
        "    model_ft.fc = nn.Linear(num_ftrs, num_classes)\r\n",
        "    input_size = input_size\r\n",
        "\r\n",
        "    return model_ft, input_size"
      ],
      "execution_count": null,
      "outputs": []
    },
    {
      "cell_type": "code",
      "metadata": {
        "id": "0rhjWemtSX_e"
      },
      "source": [
        "def load_best_model(best_model_path, model):\r\n",
        "  \"\"\"\r\n",
        "  This function loads the states of the best trained inception v3 model.\r\n",
        "\r\n",
        "  :param best_model_path: The path where the best model is stored\r\n",
        "  :param model: The initialised inception v3 model\r\n",
        "\r\n",
        "  :return: The trained model with the states loaded\r\n",
        "  \"\"\"\r\n",
        "  load_checkpoint = torch.load(best_model_path, map_location=\"cuda:0\")\r\n",
        "  model.load_state_dict(load_checkpoint['state_dict'])\r\n",
        "  return model"
      ],
      "execution_count": null,
      "outputs": []
    },
    {
      "cell_type": "code",
      "metadata": {
        "id": "agX6rxgnPFor",
        "colab": {
          "base_uri": "https://localhost:8080/",
          "height": 82,
          "referenced_widgets": [
            "ccc1c07552bb4b458a53ec63dc28e2da",
            "7c0259d5150949389848a3d7386a84c0",
            "428ea4aeb13d4d61b1c01cadd3c222aa",
            "f9a88b11d7ec47b9a946d34001f48efe",
            "08f17315884144b496f09f1186896f9b",
            "759ead6393f4477e94edd30056fa6df9",
            "84a54bccea5743abb61fa728725cabc3",
            "a99fbea5f51f4c89b6c3dc5cc92d9f6d"
          ]
        },
        "outputId": "4f6ef90a-615d-4807-c868-2820dade59b2"
      },
      "source": [
        "model, input_size = initialise_inception_v3(num_classes=2, input_size=800,\r\n",
        "                                            use_pretrained=True)\r\n",
        "model.to(device)\r\n",
        "\r\n",
        "# Load the trained states of the inception v3 model\r\n",
        "best_model_path = '/content/drive/MyDrive/Object-CXR/MODEL_DIR/best_model.pt'\r\n",
        "trained_inception_v3_model = load_best_model(best_model_path, model)"
      ],
      "execution_count": null,
      "outputs": [
        {
          "output_type": "stream",
          "text": [
            "Downloading: \"https://download.pytorch.org/models/inception_v3_google-1a9a5a14.pth\" to /root/.cache/torch/hub/checkpoints/inception_v3_google-1a9a5a14.pth\n"
          ],
          "name": "stderr"
        },
        {
          "output_type": "display_data",
          "data": {
            "application/vnd.jupyter.widget-view+json": {
              "model_id": "ccc1c07552bb4b458a53ec63dc28e2da",
              "version_minor": 0,
              "version_major": 2
            },
            "text/plain": [
              "HBox(children=(FloatProgress(value=0.0, max=108857766.0), HTML(value='')))"
            ]
          },
          "metadata": {
            "tags": []
          }
        },
        {
          "output_type": "stream",
          "text": [
            "\n"
          ],
          "name": "stdout"
        }
      ]
    },
    {
      "cell_type": "markdown",
      "metadata": {
        "id": "0X8KTs9LGw_f"
      },
      "source": [
        "# Inference"
      ]
    },
    {
      "cell_type": "code",
      "metadata": {
        "id": "urWFDRyWVf51"
      },
      "source": [
        "# Inference\r\n",
        "with torch.no_grad():\r\n",
        "  trained_inception_v3_model.eval()\r\n",
        "\r\n",
        "  preds_prob = []\r\n",
        "  labels = []\r\n",
        "  locs = []\r\n",
        "\r\n",
        "  for data in test_dataLoader:\r\n",
        "    input, label = data.get('image'), data.get('label')\r\n",
        "    input, label = input.to(device), label.to(device)\r\n",
        "\r\n",
        "    labels.append(label[-1])\r\n",
        "\r\n",
        "    output = trained_inception_v3_model(input)\r\n",
        "    output = torch.nn.Softmax(dim=1)(output)\r\n",
        "\r\n",
        "    preds_prob.append(output[0][1])\r\n",
        "\r\n",
        "preds_prob = torch.Tensor(preds_prob)\r\n",
        "preds_prob = preds_prob.tolist()"
      ],
      "execution_count": null,
      "outputs": []
    },
    {
      "cell_type": "code",
      "metadata": {
        "id": "EQTAI_8QA90C"
      },
      "source": [
        "pred = []\r\n",
        "for i in range(len(preds_prob)):\r\n",
        "  if (preds_prob[i] >= 0.5):\r\n",
        "    pred.append(1)\r\n",
        "  else:\r\n",
        "    pred.append(0)"
      ],
      "execution_count": null,
      "outputs": []
    },
    {
      "cell_type": "markdown",
      "metadata": {
        "id": "a0-_cfr_HCLp"
      },
      "source": [
        "# Inference Performance Visualisation"
      ]
    },
    {
      "cell_type": "code",
      "metadata": {
        "id": "YxA7FUBSHsV6",
        "colab": {
          "base_uri": "https://localhost:8080/",
          "height": 487
        },
        "outputId": "120da7b5-d609-4059-a56d-474f69058e28"
      },
      "source": [
        "gt = labels_test.annotation.astype(bool).astype(float).values\r\n",
        "\r\n",
        "plt.figure(figsize=(10, 8))\r\n",
        "plt.plot(gt, preds_prob, '.', color=\"green\", alpha=0.3)\r\n",
        "plt.ylim((0, 1))\r\n",
        "\r\n",
        "image_dir = '/content/drive/MyDrive/Object-CXR/Images'\r\n",
        "plt.savefig(f\"{image_dir}/prediction_concentration_graph.png\")"
      ],
      "execution_count": null,
      "outputs": [
        {
          "output_type": "display_data",
          "data": {
            "image/png": "[encoded data removed]",
            "text/plain": [
              "<Figure size 720x576 with 1 Axes>"
            ]
          },
          "metadata": {
            "tags": [],
            "needs_background": "light"
          }
        }
      ]
    },
    {
      "cell_type": "code",
      "metadata": {
        "id": "-Wgl-1IkBCBH"
      },
      "source": [
        "acc = (pred == gt).mean()\r\n",
        "fpr, tpr, _ = roc_curve(gt, preds_prob)\r\n",
        "roc_auc = auc(fpr, tpr)"
      ],
      "execution_count": null,
      "outputs": []
    },
    {
      "cell_type": "code",
      "metadata": {
        "id": "rTExwVl3Y5Jo",
        "colab": {
          "base_uri": "https://localhost:8080/",
          "height": 738
        },
        "outputId": "494696e6-b082-40dd-bc97-9be28fcd0748"
      },
      "source": [
        "# Plotting the ROC Curve\r\n",
        "fig, ax = plt.subplots(\r\n",
        "    subplot_kw=dict(xlim=[0, 1], ylim=[0, 1.05], aspect='equal'),\r\n",
        "    figsize=(12, 12)\r\n",
        ")\r\n",
        "ax.plot(fpr, tpr, lw=3, color='darkorange',\r\n",
        "        label=f\"ROC curve (area = {roc_auc:.03}, acc = {acc:.03})\")\r\n",
        "ax.plot([0, 1], [0, 1], '--', lw=3,\r\n",
        "        color='navy', label='Random')\r\n",
        "plt.xlabel(\"False Positive Rate\", fontsize=\"x-large\")\r\n",
        "plt.ylabel(\"True Positive Rate\", fontsize=\"x-large\")\r\n",
        "plt.fill_between(fpr, tpr, color=\"antiquewhite\")\r\n",
        "_ = ax.legend(loc=\"lower right\", fontsize=16)\r\n",
        "_ = ax.set_title(\"ROC Curve\", fontsize=18)\r\n",
        "ax.grid(linestyle=\"dashed\")\r\n",
        "\r\n",
        "plt.savefig(f\"{image_dir}/ROC_curve.png\")"
      ],
      "execution_count": null,
      "outputs": [
        {
          "output_type": "display_data",
          "data": {
            "image/png": "[encoded data removed]",
            "text/plain": [
              "<Figure size 864x864 with 1 Axes>"
            ]
          },
          "metadata": {
            "tags": [],
            "needs_background": "light"
          }
        }
      ]
    },
    {
      "cell_type": "code",
      "metadata": {
        "colab": {
          "base_uri": "https://localhost:8080/"
        },
        "id": "FtREI18uG2wd",
        "outputId": "9eba0913-ae4a-4c8f-91a6-247396be5037"
      },
      "source": [
        "# Plotting the confusion matrix\r\n",
        "gt_list = [int(i) for i in gt.tolist()]\r\n",
        "cfm = confusion_matrix(gt_list, pred)\r\n",
        "cfm"
      ],
      "execution_count": null,
      "outputs": [
        {
          "output_type": "execute_result",
          "data": {
            "text/plain": [
              "array([[450,  50],\n",
              "       [ 78, 422]])"
            ]
          },
          "metadata": {
            "tags": []
          },
          "execution_count": 88
        }
      ]
    },
    {
      "cell_type": "code",
      "metadata": {
        "colab": {
          "base_uri": "https://localhost:8080/",
          "height": 587
        },
        "id": "MDFB1qAuIg3o",
        "outputId": "b2dd3a23-25bf-4c6b-c74e-77f7991667cc"
      },
      "source": [
        "precision = round(precision_score(gt_list, pred), 3)\r\n",
        "recall = round(recall_score(gt_list, pred), 3)\r\n",
        "f1 = round(f1_score(gt_list, pred), 3)\r\n",
        "\r\n",
        "plt.figure(figsize=(10,7))\r\n",
        "group_names = ['True Neg', 'False Pos', 'False Neg', 'True Pos']\r\n",
        "group_counts = [\"{0:0.0f}\".format(value) for value in cfm.flatten()]\r\n",
        "group_percentages = [\"{0: .2%}\".format(value) for value in cfm.flatten()/np.sum(cfm)]\r\n",
        "\r\n",
        "heatmap_labels = [f\"{v1}\\n{v2}\\n{v3}\" for v1, v2, v3 in zip(group_names, group_counts, group_percentages)]\r\n",
        "heatmap_labels = np.asarray(heatmap_labels).reshape(2, 2)\r\n",
        "\r\n",
        "sn.set(font_scale=1.4) # for label size\r\n",
        "sn.heatmap(cfm, annot=heatmap_labels, annot_kws={\"size\": 16},\r\n",
        "           cmap=\"Blues\", fmt=\"\")\r\n",
        "\r\n",
        "plt.title(\"Confusion Matrix\", fontsize=24)\r\n",
        "plt.xlabel(f\"Predicted label\\n\\nAccuracy={acc}\\nPrecision={precision}\\nRecall={recall}\\nF1 score={f1}\")\r\n",
        "plt.ylabel(\"True label\")\r\n",
        "\r\n",
        "plt.savefig(f\"{image_dir}/confusion_matrix.png\", bbox_inches=\"tight\")\r\n",
        "plt.show()\r\n",
        "\r\n"
      ],
      "execution_count": null,
      "outputs": [
        {
          "output_type": "display_data",
          "data": {
            "image/png": "[encoded data removed]",
            "text/plain": [
              "<Figure size 720x504 with 2 Axes>"
            ]
          },
          "metadata": {
            "tags": []
          }
        }
      ]
    }
  ]
}